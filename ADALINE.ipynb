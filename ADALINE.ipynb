{
  "nbformat": 4,
  "nbformat_minor": 0,
  "metadata": {
    "colab": {
      "provenance": [],
      "toc_visible": true,
      "authorship_tag": "ABX9TyN6q4xf7DFWIOWhuzQEqHki",
      "include_colab_link": true
    },
    "kernelspec": {
      "name": "python3",
      "display_name": "Python 3"
    },
    "language_info": {
      "name": "python"
    }
  },
  "cells": [
    {
      "cell_type": "markdown",
      "metadata": {
        "id": "view-in-github",
        "colab_type": "text"
      },
      "source": [
        "<a href=\"https://colab.research.google.com/github/THISARA005/Artificial-inteligence/blob/main/ADALINE.ipynb\" target=\"_parent\"><img src=\"https://colab.research.google.com/assets/colab-badge.svg\" alt=\"Open In Colab\"/></a>"
      ]
    },
    {
      "cell_type": "code",
      "execution_count": null,
      "metadata": {
        "id": "LRsoUEpgj5Pm",
        "colab": {
          "base_uri": "https://localhost:8080/"
        },
        "outputId": "c2ea5cf6-0080-4cf8-8979-57baa85746bc"
      },
      "outputs": [
        {
          "output_type": "stream",
          "name": "stdout",
          "text": [
            "0.68 0.95 0.58\n",
            "1 1\n",
            "1\n"
          ]
        }
      ],
      "source": [
        "import numpy as np\n",
        "import random\n",
        "\n",
        "input0 = np.array([-1,-1,-1,-1]);\n",
        "input1=np.array([-1,1]);\n",
        "\n",
        "n=random.uniform(0.2,0.5);\n",
        "w0=random.random();\n",
        "w1=random.random();\n",
        "w2=random.random();\n",
        "w0=round(w0,2);\n",
        "w1=round(w1,2);\n",
        "w2=round(w2,2);\n",
        "\n",
        "desiredanswer=np.array([0,0,0,1]);\n",
        "weightValue=np.array([w0,w1,w2]);\n",
        "\n",
        "for j in range(10):\n",
        "  x0=-1;\n",
        "  x1=random.choice(input1);\n",
        "  x2=random.choice(input1);\n",
        "\n",
        "  w0=round(w0,2);\n",
        "  w1=round(w1,2);\n",
        "  w2=round(w2,2);\n",
        "\n",
        "  predValue=x0*w0+x1*w1+x2*w2;\n",
        " \n",
        "  \n",
        "  if ((x1==-1 and x2==-1) or (x1==-1 and x2==1) or (x1==1 and x2==-1)) and predValue>=0 :\n",
        "    desiValue=0;\n",
        "    w0=w0+n*(desiValue-predValue)*x0;\n",
        "    w1=w1+n*(desiValue-predValue)*x1;\n",
        "    w2=w2+n*(desiValue-predValue)*x2;\n",
        "  if (x1==1 and x2==1) and predValue<0:\n",
        "    desiValue=1;\n",
        "    w0=w0+n*(desiValue-predValue)*x0;\n",
        "    w1=w1+n*(desiValue-predValue)*x1;\n",
        "    w2=w2+n*(desiValue-predValue)*x2;\n",
        "  else:\n",
        "    desiValue=predValue;\n",
        "    w0=w0+n*(desiValue-predValue)*x0;\n",
        "    w1=w1+n*(desiValue-predValue)*x1;\n",
        "    w2=w2+n*(desiValue-predValue)*x2;\n",
        "  \n",
        "x1=random.choice(input1);\n",
        "x2=random.choice(input1);\n",
        "\n",
        "w0=round(w0,2);\n",
        "w1=round(w1,2);\n",
        "w2=round(w2,2);\n",
        "\n",
        "print(w0,w1,w2);\n",
        "print(x1,x2);\n",
        "predictedValue=w0*x0+w1*x1+w2*x2;\n",
        "if(predictedValue>=0):\n",
        "  predictedValue=1;\n",
        "if(predictedValue<0):\n",
        "  predictedValue=-1;\n",
        "  \n",
        "print(predictedValue);\n",
        "  \n",
        "\n"
      ]
    },
    {
      "cell_type": "markdown",
      "source": [
        "# New section"
      ],
      "metadata": {
        "id": "cDIjYQ9Qjr2i"
      }
    },
    {
      "cell_type": "markdown",
      "source": [
        "# New section"
      ],
      "metadata": {
        "id": "GV6TTL4OiUJb"
      }
    },
    {
      "cell_type": "code",
      "source": [
        "import numpy as np\n",
        "import random;\n",
        "\n",
        "class Adaline:\n",
        "    def __init__(self, learning_rate=0.01, epochs=50):\n",
        "        self.learning_rate = learning_rate\n",
        "        self.epochs = epochs\n",
        "\n",
        "    def fit(self, X, y):\n",
        "        self.w_ = np.zeros(1 + X.shape[1])\n",
        "        self.cost_ = []\n",
        "\n",
        "        for _ in range(self.epochs):\n",
        "            output = self.net_input(X)\n",
        "            errors = (y - output)\n",
        "            self.w_[1:] += self.learning_rate * X.T.dot(errors)\n",
        "            self.w_[0] += self.learning_rate * errors.sum()\n",
        "            cost = (errors**2).sum() / 2.0\n",
        "            self.cost_.append(cost)\n",
        "        return self\n",
        "\n",
        "    def net_input(self, X):\n",
        "        return np.dot(X, self.w_[1:]) + self.w_[0]\n",
        "\n",
        "    def activation(self, X):\n",
        "        return self.net_input(X)\n",
        "\n",
        "    def predict(self, X):\n",
        "        return np.where(self.activation(X) >= 0.0, 1, -1)\n",
        "\n",
        "# Example usage:\n",
        "# Define the training set\n",
        "X = np.array([[1, 1], [1, -1], [-1, 1], [-1, -1]])\n",
        "y = np.array([1, -1, -1, -1])\n",
        "\n",
        "# Train the Adaline\n",
        "adaline = Adaline(epochs=10, learning_rate=0.01).fit(X, y)\n",
        "\n",
        "# Test the model with new inputs\n",
        "input1=np.array([1,-1])\n",
        "x1=random.choice(input1);\n",
        "x2=random.choice(input1);\n",
        "print(x1,x2)\n",
        "print(adaline.predict([x1,x2]))\n"
      ],
      "metadata": {
        "colab": {
          "base_uri": "https://localhost:8080/"
        },
        "id": "yB_lokvGmEDT",
        "outputId": "d1be75ed-3e36-4dfc-cc42-7e42dc6addd4"
      },
      "execution_count": null,
      "outputs": [
        {
          "output_type": "stream",
          "name": "stdout",
          "text": [
            "1 1\n",
            "1\n"
          ]
        }
      ]
    }
  ]
}